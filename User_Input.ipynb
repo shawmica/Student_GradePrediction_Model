{
  "cells": [
    {
      "cell_type": "markdown",
      "metadata": {
        "id": "view-in-github",
        "colab_type": "text"
      },
      "source": [
        "<a href=\"https://colab.research.google.com/github/shawmica/Student_GradePrediction_Model/blob/main/User_Input.ipynb\" target=\"_parent\"><img src=\"https://colab.research.google.com/assets/colab-badge.svg\" alt=\"Open In Colab\"/></a>"
      ]
    },
    {
      "cell_type": "code",
      "execution_count": 1,
      "metadata": {
        "id": "lKeLWPuSNVU5",
        "colab": {
          "base_uri": "https://localhost:8080/"
        },
        "outputId": "0ea91af3-f518-4f94-bd42-221174611a54"
      },
      "outputs": [
        {
          "output_type": "stream",
          "name": "stdout",
          "text": [
            "Mounted at /content/drive\n"
          ]
        }
      ],
      "source": [
        "# Mount Drive\n",
        "from google.colab import drive\n",
        "drive.mount('/content/drive')\n",
        "\n"
      ]
    },
    {
      "cell_type": "code",
      "execution_count": 2,
      "metadata": {
        "id": "swOqfBa-eSUd",
        "colab": {
          "base_uri": "https://localhost:8080/"
        },
        "outputId": "02c5d2f5-c044-442d-fcbb-e1e6daed083c"
      },
      "outputs": [
        {
          "output_type": "stream",
          "name": "stderr",
          "text": [
            "WARNING:absl:Compiled the loaded model, but the compiled metrics have yet to be built. `model.compile_metrics` will be empty until you train or evaluate the model.\n"
          ]
        },
        {
          "output_type": "stream",
          "name": "stdout",
          "text": [
            "Model loaded successfully!\n"
          ]
        }
      ],
      "source": [
        "# Load model\n",
        "from tensorflow.keras.models import load_model\n",
        "import numpy as np\n",
        "\n",
        "model_path = \"/content/drive/MyDrive/optimized_final_grade_model.h5\"\n",
        "model = load_model(model_path)\n",
        "print(\"Model loaded successfully!\")\n",
        "\n"
      ]
    },
    {
      "cell_type": "code",
      "execution_count": 13,
      "metadata": {
        "colab": {
          "base_uri": "https://localhost:8080/"
        },
        "id": "AtGhisuWebO1",
        "outputId": "97fb0163-dfef-46e5-a082-a1a9ebd07be3"
      },
      "outputs": [
        {
          "output_type": "stream",
          "name": "stdout",
          "text": [
            "\n",
            "Enter the student details:\n",
            "Credits: 4\n",
            "Study Hours(for the mentioned subject in a week): 14\n",
            "Assignment Impact (e.g 20/30/40): 30\n",
            "Quiz 1 Score (out of 10): 9\n",
            "Quiz 2 Score (out of 10): 9\n",
            "Attendance (%): 89\n",
            "Engagement Score (1-5): 5\n",
            "Missed Deadlines: 0\n",
            "\n",
            "Computed features [QuizAverage, StudyEfficiency, ParticipationScore, AssignmentPenaltyScore]:\n",
            "[  9.    3.5 189.    0. ]\n",
            "\n",
            "Class Probabilities:\n",
            "A: 0.3983\n",
            "B: 0.5650\n",
            "C: 0.0366\n",
            "F: 0.0001\n",
            "\n",
            "Predicted Grade: B\n"
          ]
        }
      ],
      "source": [
        "# Adjust if your EncodedGrade mapping is different in the dataset.\n",
        "class_names = ['A', 'B', 'C', 'F']\n",
        "\n",
        "# Collect user input\n",
        "print(\"\\nEnter the student details:\")\n",
        "credits = float(input(\"Credits: \"))\n",
        "study_hours = float(input(\"Study Hours(for the mentioned subject in a week): \"))\n",
        "assignment_impact = float(input(\"Assignment Impact (e.g 20/30/40): \"))\n",
        "quiz1 = float(input(\"Quiz 1 Score (out of 10): \"))\n",
        "quiz2 = float(input(\"Quiz 2 Score (out of 10): \"))\n",
        "attendance = float(input(\"Attendance (%): \"))\n",
        "engagement = float(input(\"Engagement Score (1-5): \"))\n",
        "missed_deadlines = float(input(\"Missed Deadlines: \"))\n",
        "\n",
        "# Feature engineering\n",
        "# 1) QuizAverage\n",
        "quiz_avg = (quiz1 + quiz2) / 2.0\n",
        "# 2) StudyEfficiency = StudyHours / Credits\n",
        "study_efficiency = study_hours / credits if credits != 0 else 0.0\n",
        "# 3) ParticipationScore = Attendance + Engagement*20\n",
        "participation_score = attendance + (engagement*20)\n",
        "# 4) AssignmentPenaltyScore = MissedDeadlines * AssignmentImpact\n",
        "assignment_penalty = missed_deadlines * assignment_impact\n",
        "\n",
        "# Order: ['QuizAverage','StudyEfficiency','ParticipationScore','AssignmentPenaltyScore']\n",
        "x = np.array([[quiz_avg, study_efficiency, participation_score, assignment_penalty]], dtype=np.float32)\n",
        "\n",
        "# Predict\n",
        "probs = model.predict(x, verbose=0)[0]\n",
        "pred_idx = int(np.argmax(probs))\n",
        "\n",
        "pred_label = class_names[pred_idx] if len(class_names) == probs.shape[0] else str(pred_idx)\n",
        "\n",
        "# Output\n",
        "print(\"\\nComputed features [QuizAverage, StudyEfficiency, ParticipationScore, AssignmentPenaltyScore]:\")\n",
        "print(np.round(x[0], 4))\n",
        "\n",
        "print(\"\\nClass Probabilities:\")\n",
        "for cls, p in zip(class_names if len(class_names)==probs.shape[0] else range(len(probs)), probs):\n",
        "    print(f\"{cls}: {p:.4f}\")\n",
        "\n",
        "print(f\"\\nPredicted Grade: {pred_label}\")"
      ]
    }
  ],
  "metadata": {
    "colab": {
      "provenance": [],
      "authorship_tag": "ABX9TyMI10wM5Fk9JqFzD1lDG3PC",
      "include_colab_link": true
    },
    "kernelspec": {
      "display_name": "Python 3",
      "name": "python3"
    },
    "language_info": {
      "name": "python"
    }
  },
  "nbformat": 4,
  "nbformat_minor": 0
}